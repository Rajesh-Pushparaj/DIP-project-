{
 "cells": [
  {
   "cell_type": "code",
   "execution_count": 1,
   "metadata": {},
   "outputs": [],
   "source": [
    "import tensorflow as tf\n",
    "from tensorflow import keras\n",
    "import sklearn\n",
    "from sklearn.model_selection import train_test_split\n",
    "import pandas as pd\n",
    "import numpy as np\n",
    "import matplotlib.pyplot as plt"
   ]
  },
  {
   "cell_type": "code",
   "execution_count": 2,
   "metadata": {},
   "outputs": [],
   "source": [
    "#moves along the upright position\n",
    "df1_x = pd.read_excel('./uprightdataset/df23/val_X.xls',header=None).iloc[1:,:] #0,0 dataset\n",
    "#df2_x = pd.read_excel('./uprightdataset/df24/val_X.xls',header=None).iloc[1:,:] #2pi3,0 dataset\n",
    "df3_x = pd.read_excel('./mlme_data_set/Dataset/df3/val_X.xls',header=None).iloc[1: , :]\n",
    "df3_x1 = pd.read_excel('./mlme_data_set/Dataset/df3_1/val_X.xls',header=None).iloc[1: , :]\n",
    "df3_x2 = pd.read_excel('./mlme_data_set/Dataset/df3_2/val_X.xls',header=None).iloc[1: , :]\n",
    "df3_x3 = pd.read_excel('./mlme_data_set/Dataset/df3_3/val_X.xls',header=None).iloc[1: , :]\n",
    "df3_x4 = pd.read_excel('./mlme_data_set/Dataset/df3_4/val_X.xls',header=None).iloc[1: , :]\n",
    "df3_x5 = pd.read_excel('./mlme_data_set/Dataset/df3_5/val_X.xls',header=None).iloc[1: , :]\n",
    "df3_x6 = pd.read_excel('./mlme_data_set/Dataset/df3_6/val_X.xls',header=None).iloc[1: , :]\n",
    "df3_x7 = pd.read_excel('./mlme_data_set/Dataset/df3_7/val_X.xls',header=None).iloc[1: , :]\n",
    "df3_x8 = pd.read_excel('./mlme_data_set/Dataset/df3_8/val_X.xls',header=None).iloc[1: , :]"
   ]
  },
  {
   "cell_type": "code",
   "execution_count": 344,
   "metadata": {},
   "outputs": [],
   "source": [
    "df1_x = pd.read_excel('./mlme_data_set/Dataset/df1/val_X.xls',header=None).iloc[1: , :]\n",
    "df2_x = pd.read_excel('./mlme_data_set/Dataset/df2/val_X.xls',header=None).iloc[1: , :]\n",
    "df3_x = pd.read_excel('./mlme_data_set/Dataset/df3/val_X.xls',header=None).iloc[1: , :]\n",
    "df4_x = pd.read_excel('./mlme_data_set/Dataset/df4/val_X.xls',header=None).iloc[1: , :]\n",
    "df5_x = pd.read_excel('./mlme_data_set/Dataset/df5/val_X.xls',header=None).iloc[1: , :]\n",
    "df6_x = pd.read_excel('./mlme_data_set/Dataset/df6/val_X.xls',header=None).iloc[1: , :]\n",
    "df7_x = pd.read_excel('./mlme_data_set/Dataset/df7/val_X.xls',header=None).iloc[1: , :]\n",
    "df8_x = pd.read_excel('./mlme_data_set/Dataset/df8/val_X.xls',header=None).iloc[1: , :]\n",
    "df9_x = pd.read_excel('./mlme_data_set/Dataset/df9/val_X.xls',header=None).iloc[1: , :]\n",
    "df10_x = pd.read_excel('./mlme_data_set/Dataset/df10/val_X.xls',header=None).iloc[1: , :]\n",
    "df11_x = pd.read_excel('./mlme_data_set/Dataset/df11/val_X.xls',header=None).iloc[1: , :]\n",
    "df12_x = pd.read_excel('./mlme_data_set/Dataset/df12/val_X.xls',header=None).iloc[1: , :]\n",
    "df13_x = pd.read_excel('./mlme_data_set/Dataset/df13/val_X.xls',header=None).iloc[1: , :]\n",
    "df14_x = pd.read_excel('./mlme_data_set/Dataset/df14/val_X.xls',header=None).iloc[1: , :]\n",
    "df15_x = pd.read_excel('./mlme_data_set/Dataset/df15/val_X.xls',header=None).iloc[1: , :]\n",
    "df16_x = pd.read_excel('./mlme_data_set/Dataset/df16/val_X.xls',header=None).iloc[1: , :]\n",
    "df17_x = pd.read_excel('./mlme_data_set/Dataset/df17/val_X.xls',header=None).iloc[1: , :]\n",
    "df18_x = pd.read_excel('./mlme_data_set/Dataset/df18/val_X.xls',header=None).iloc[1: , :]\n",
    "df19_x = pd.read_excel('./mlme_data_set/Dataset/df19/val_X.xls',header=None).iloc[1: , :]\n",
    "df20_x = pd.read_excel('./mlme_data_set/Dataset/df20/val_X.xls',header=None).iloc[1: , :]\n",
    "df21_x = pd.read_excel('./mlme_data_set/Dataset/df21/val_X.xls',header=None).iloc[1: , :]\n",
    "df22_x = pd.read_excel('./mlme_data_set/Dataset/df22/val_X.xls',header=None).iloc[1: , :]"
   ]
  },
  {
   "cell_type": "code",
   "execution_count": 346,
   "metadata": {},
   "outputs": [],
   "source": [
    "df23_x = pd.read_excel('./uprightdataset/df23/val_X.xls',header=None).iloc[1:,:]\n",
    "df24_x = pd.read_excel('./uprightdataset/df24/val_X.xls',header=None).iloc[1:,:]\n",
    "df25_x = pd.read_excel('./uprightdataset/df25/val_X.xls',header=None).iloc[1:,:]\n",
    "df26_x = pd.read_excel('./uprightdataset/df26/val_X.xls',header=None).iloc[1:,:]\n",
    "df27_x = pd.read_excel('./uprightdataset/df27/val_X.xls',header=None).iloc[1:,:]\n",
    "df28_x = pd.read_excel('./uprightdataset/df28/val_X.xls',header=None).iloc[1:,:]\n",
    "df29_x = pd.read_excel('./uprightdataset/df29/val_X.xls',header=None).iloc[1:,:]\n",
    "df30_x = pd.read_excel('./uprightdataset/df30/val_X.xls',header=None).iloc[1:,:]"
   ]
  },
  {
   "cell_type": "code",
   "execution_count": 4,
   "metadata": {},
   "outputs": [
    {
     "data": {
      "text/html": [
       "<div>\n",
       "<style scoped>\n",
       "    .dataframe tbody tr th:only-of-type {\n",
       "        vertical-align: middle;\n",
       "    }\n",
       "\n",
       "    .dataframe tbody tr th {\n",
       "        vertical-align: top;\n",
       "    }\n",
       "\n",
       "    .dataframe thead th {\n",
       "        text-align: right;\n",
       "    }\n",
       "</style>\n",
       "<table border=\"1\" class=\"dataframe\">\n",
       "  <thead>\n",
       "    <tr style=\"text-align: right;\">\n",
       "      <th></th>\n",
       "      <th>0</th>\n",
       "      <th>1</th>\n",
       "      <th>2</th>\n",
       "      <th>3</th>\n",
       "      <th>4</th>\n",
       "      <th>5</th>\n",
       "    </tr>\n",
       "  </thead>\n",
       "  <tbody>\n",
       "    <tr>\n",
       "      <th>1</th>\n",
       "      <td>-0.000749</td>\n",
       "      <td>3.133450</td>\n",
       "      <td>3.149512</td>\n",
       "      <td>-0.137090</td>\n",
       "      <td>-0.502073</td>\n",
       "      <td>0.287861</td>\n",
       "    </tr>\n",
       "    <tr>\n",
       "      <th>2</th>\n",
       "      <td>-0.011015</td>\n",
       "      <td>3.102022</td>\n",
       "      <td>3.163383</td>\n",
       "      <td>-0.374841</td>\n",
       "      <td>-1.051982</td>\n",
       "      <td>0.380235</td>\n",
       "    </tr>\n",
       "    <tr>\n",
       "      <th>3</th>\n",
       "      <td>-0.030584</td>\n",
       "      <td>3.051139</td>\n",
       "      <td>3.177255</td>\n",
       "      <td>-0.601243</td>\n",
       "      <td>-1.464162</td>\n",
       "      <td>0.273335</td>\n",
       "    </tr>\n",
       "  </tbody>\n",
       "</table>\n",
       "</div>"
      ],
      "text/plain": [
       "          0         1         2         3         4         5\n",
       "1 -0.000749  3.133450  3.149512 -0.137090 -0.502073  0.287861\n",
       "2 -0.011015  3.102022  3.163383 -0.374841 -1.051982  0.380235\n",
       "3 -0.030584  3.051139  3.177255 -0.601243 -1.464162  0.273335"
      ]
     },
     "execution_count": 4,
     "metadata": {},
     "output_type": "execute_result"
    }
   ],
   "source": [
    "df1_x.head(3)"
   ]
  },
  {
   "cell_type": "code",
   "execution_count": 3,
   "metadata": {},
   "outputs": [],
   "source": [
    "#moves along the upright position\n",
    "df1_f = pd.read_excel('./uprightdataset/df23/val_F.xls',header=None)\n",
    "#df2_f = pd.read_excel('./uprightdataset/df24/val_F.xls',header=None)\n",
    "df3_f = pd.read_excel('./mlme_data_set/Dataset/df3/val_F.xls',header=None)\n",
    "df3_f1 = pd.read_excel('./mlme_data_set/Dataset/df3_1/val_F.xls',header=None)\n",
    "df3_f2 = pd.read_excel('./mlme_data_set/Dataset/df3_2/val_F.xls',header=None)\n",
    "df3_f3 = pd.read_excel('./mlme_data_set/Dataset/df3_3/val_F.xls',header=None)\n",
    "df3_f4 = pd.read_excel('./mlme_data_set/Dataset/df3_4/val_F.xls',header=None)\n",
    "df3_f5 = pd.read_excel('./mlme_data_set/Dataset/df3_5/val_F.xls',header=None)\n",
    "df3_f6 = pd.read_excel('./mlme_data_set/Dataset/df3_6/val_F.xls',header=None)\n",
    "df3_f7 = pd.read_excel('./mlme_data_set/Dataset/df3_7/val_F.xls',header=None)\n",
    "df3_f8 = pd.read_excel('./mlme_data_set/Dataset/df3_8/val_F.xls',header=None)"
   ]
  },
  {
   "cell_type": "code",
   "execution_count": 345,
   "metadata": {},
   "outputs": [],
   "source": [
    "df1_f = pd.read_excel('./mlme_data_set/Dataset/df1/val_F.xls',header=None)\n",
    "df2_f = pd.read_excel('./mlme_data_set/Dataset/df2/val_F.xls',header=None)\n",
    "df3_f = pd.read_excel('./mlme_data_set/Dataset/df3/val_F.xls',header=None)\n",
    "df4_f = pd.read_excel('./mlme_data_set/Dataset/df4/val_F.xls',header=None)\n",
    "df5_f = pd.read_excel('./mlme_data_set/Dataset/df5/val_F.xls',header=None)\n",
    "df6_f = pd.read_excel('./mlme_data_set/Dataset/df6/val_F.xls',header=None)\n",
    "df7_f = pd.read_excel('./mlme_data_set/Dataset/df7/val_F.xls',header=None)\n",
    "df8_f = pd.read_excel('./mlme_data_set/Dataset/df8/val_F.xls',header=None)\n",
    "df9_f = pd.read_excel('./mlme_data_set/Dataset/df9/val_F.xls',header=None)\n",
    "df10_f = pd.read_excel('./mlme_data_set/Dataset/df10/val_F.xls',header=None)\n",
    "df11_f = pd.read_excel('./mlme_data_set/Dataset/df11/val_F.xls',header=None)\n",
    "df12_f = pd.read_excel('./mlme_data_set/Dataset/df12/val_F.xls',header=None)\n",
    "df13_f = pd.read_excel('./mlme_data_set/Dataset/df13/val_F.xls',header=None)\n",
    "df14_f = pd.read_excel('./mlme_data_set/Dataset/df14/val_F.xls',header=None)\n",
    "df15_f = pd.read_excel('./mlme_data_set/Dataset/df15/val_F.xls',header=None)\n",
    "df16_f = pd.read_excel('./mlme_data_set/Dataset/df16/val_F.xls',header=None)\n",
    "df17_f = pd.read_excel('./mlme_data_set/Dataset/df17/val_F.xls',header=None)\n",
    "df18_f = pd.read_excel('./mlme_data_set/Dataset/df18/val_F.xls',header=None)\n",
    "df19_f = pd.read_excel('./mlme_data_set/Dataset/df19/val_F.xls',header=None)\n",
    "df20_f = pd.read_excel('./mlme_data_set/Dataset/df20/val_F.xls',header=None)\n",
    "df21_f = pd.read_excel('./mlme_data_set/Dataset/df21/val_F.xls',header=None)\n",
    "df22_f = pd.read_excel('./mlme_data_set/Dataset/df22/val_F.xls',header=None)"
   ]
  },
  {
   "cell_type": "code",
   "execution_count": 347,
   "metadata": {},
   "outputs": [],
   "source": [
    "df23_f = pd.read_excel('./uprightdataset/df23/val_F.xls',header=None)\n",
    "df24_f = pd.read_excel('./uprightdataset/df24/val_F.xls',header=None)\n",
    "df25_f = pd.read_excel('./uprightdataset/df25/val_F.xls',header=None)\n",
    "df26_f = pd.read_excel('./uprightdataset/df26/val_F.xls',header=None)\n",
    "df27_f = pd.read_excel('./uprightdataset/df27/val_F.xls',header=None)\n",
    "df28_f = pd.read_excel('./uprightdataset/df28/val_F.xls',header=None)\n",
    "df29_f = pd.read_excel('./uprightdataset/df29/val_F.xls',header=None)\n",
    "df30_f = pd.read_excel('./uprightdataset/df30/val_F.xls',header=None)"
   ]
  },
  {
   "cell_type": "code",
   "execution_count": 6,
   "metadata": {},
   "outputs": [
    {
     "data": {
      "text/html": [
       "<div>\n",
       "<style scoped>\n",
       "    .dataframe tbody tr th:only-of-type {\n",
       "        vertical-align: middle;\n",
       "    }\n",
       "\n",
       "    .dataframe tbody tr th {\n",
       "        vertical-align: top;\n",
       "    }\n",
       "\n",
       "    .dataframe thead th {\n",
       "        text-align: right;\n",
       "    }\n",
       "</style>\n",
       "<table border=\"1\" class=\"dataframe\">\n",
       "  <thead>\n",
       "    <tr style=\"text-align: right;\">\n",
       "      <th></th>\n",
       "      <th>0</th>\n",
       "    </tr>\n",
       "  </thead>\n",
       "  <tbody>\n",
       "    <tr>\n",
       "      <th>0</th>\n",
       "      <td>-4.0</td>\n",
       "    </tr>\n",
       "    <tr>\n",
       "      <th>1</th>\n",
       "      <td>-4.0</td>\n",
       "    </tr>\n",
       "    <tr>\n",
       "      <th>2</th>\n",
       "      <td>-4.0</td>\n",
       "    </tr>\n",
       "  </tbody>\n",
       "</table>\n",
       "</div>"
      ],
      "text/plain": [
       "     0\n",
       "0 -4.0\n",
       "1 -4.0\n",
       "2 -4.0"
      ]
     },
     "execution_count": 6,
     "metadata": {},
     "output_type": "execute_result"
    }
   ],
   "source": [
    "df2_f.head(3)"
   ]
  },
  {
   "cell_type": "code",
   "execution_count": 4,
   "metadata": {},
   "outputs": [
    {
     "ename": "NameError",
     "evalue": "name 'df1_x' is not defined",
     "output_type": "error",
     "traceback": [
      "\u001b[1;31m---------------------------------------------------------------------------\u001b[0m",
      "\u001b[1;31mNameError\u001b[0m                                 Traceback (most recent call last)",
      "\u001b[1;32m<ipython-input-4-7704777e157b>\u001b[0m in \u001b[0;36m<module>\u001b[1;34m\u001b[0m\n\u001b[1;32m----> 1\u001b[1;33m \u001b[0mdf1_x\u001b[0m\u001b[1;33m.\u001b[0m\u001b[0mshape\u001b[0m\u001b[1;33m\u001b[0m\u001b[1;33m\u001b[0m\u001b[0m\n\u001b[0m",
      "\u001b[1;31mNameError\u001b[0m: name 'df1_x' is not defined"
     ]
    }
   ],
   "source": [
    "df1_x.shape"
   ]
  },
  {
   "cell_type": "code",
   "execution_count": 348,
   "metadata": {},
   "outputs": [
    {
     "data": {
      "text/html": [
       "<div>\n",
       "<style scoped>\n",
       "    .dataframe tbody tr th:only-of-type {\n",
       "        vertical-align: middle;\n",
       "    }\n",
       "\n",
       "    .dataframe tbody tr th {\n",
       "        vertical-align: top;\n",
       "    }\n",
       "\n",
       "    .dataframe thead th {\n",
       "        text-align: right;\n",
       "    }\n",
       "</style>\n",
       "<table border=\"1\" class=\"dataframe\">\n",
       "  <thead>\n",
       "    <tr style=\"text-align: right;\">\n",
       "      <th></th>\n",
       "      <th>x</th>\n",
       "      <th>theta1</th>\n",
       "      <th>theta2</th>\n",
       "      <th>v</th>\n",
       "      <th>dtheta1</th>\n",
       "      <th>dtheta2</th>\n",
       "    </tr>\n",
       "  </thead>\n",
       "  <tbody>\n",
       "    <tr>\n",
       "      <th>1</th>\n",
       "      <td>-7.488431e-04</td>\n",
       "      <td>3.133450</td>\n",
       "      <td>3.149512</td>\n",
       "      <td>-1.370901e-01</td>\n",
       "      <td>-5.020729e-01</td>\n",
       "      <td>2.878609e-01</td>\n",
       "    </tr>\n",
       "    <tr>\n",
       "      <th>2</th>\n",
       "      <td>-1.101508e-02</td>\n",
       "      <td>3.102022</td>\n",
       "      <td>3.163383</td>\n",
       "      <td>-3.748407e-01</td>\n",
       "      <td>-1.051982e+00</td>\n",
       "      <td>3.802354e-01</td>\n",
       "    </tr>\n",
       "    <tr>\n",
       "      <th>3</th>\n",
       "      <td>-3.058420e-02</td>\n",
       "      <td>3.051139</td>\n",
       "      <td>3.177255</td>\n",
       "      <td>-6.012427e-01</td>\n",
       "      <td>-1.464162e+00</td>\n",
       "      <td>2.733351e-01</td>\n",
       "    </tr>\n",
       "    <tr>\n",
       "      <th>4</th>\n",
       "      <td>-5.889750e-02</td>\n",
       "      <td>2.987363</td>\n",
       "      <td>3.181798</td>\n",
       "      <td>-8.114937e-01</td>\n",
       "      <td>-1.692392e+00</td>\n",
       "      <td>-8.955114e-02</td>\n",
       "    </tr>\n",
       "    <tr>\n",
       "      <th>5</th>\n",
       "      <td>-9.526696e-02</td>\n",
       "      <td>2.918258</td>\n",
       "      <td>3.166932</td>\n",
       "      <td>-1.004087e+00</td>\n",
       "      <td>-1.733453e+00</td>\n",
       "      <td>-6.872780e-01</td>\n",
       "    </tr>\n",
       "    <tr>\n",
       "      <th>...</th>\n",
       "      <td>...</td>\n",
       "      <td>...</td>\n",
       "      <td>...</td>\n",
       "      <td>...</td>\n",
       "      <td>...</td>\n",
       "      <td>...</td>\n",
       "    </tr>\n",
       "    <tr>\n",
       "      <th>246</th>\n",
       "      <td>6.818339e-15</td>\n",
       "      <td>6.283185</td>\n",
       "      <td>6.283185</td>\n",
       "      <td>3.175741e-14</td>\n",
       "      <td>-1.139458e-13</td>\n",
       "      <td>-3.477301e-14</td>\n",
       "    </tr>\n",
       "    <tr>\n",
       "      <th>247</th>\n",
       "      <td>7.801362e-15</td>\n",
       "      <td>6.283185</td>\n",
       "      <td>6.283185</td>\n",
       "      <td>2.099595e-14</td>\n",
       "      <td>-8.508598e-14</td>\n",
       "      <td>-3.191238e-14</td>\n",
       "    </tr>\n",
       "    <tr>\n",
       "      <th>248</th>\n",
       "      <td>7.972631e-15</td>\n",
       "      <td>6.283185</td>\n",
       "      <td>6.283185</td>\n",
       "      <td>-4.195826e-15</td>\n",
       "      <td>-2.251345e-14</td>\n",
       "      <td>-3.744042e-14</td>\n",
       "    </tr>\n",
       "    <tr>\n",
       "      <th>249</th>\n",
       "      <td>7.436722e-15</td>\n",
       "      <td>6.283185</td>\n",
       "      <td>6.283185</td>\n",
       "      <td>-1.809206e-14</td>\n",
       "      <td>1.199991e-14</td>\n",
       "      <td>-3.577486e-14</td>\n",
       "    </tr>\n",
       "    <tr>\n",
       "      <th>250</th>\n",
       "      <td>6.510435e-15</td>\n",
       "      <td>6.283185</td>\n",
       "      <td>6.283185</td>\n",
       "      <td>-2.574246e-14</td>\n",
       "      <td>3.116034e-14</td>\n",
       "      <td>-3.084062e-14</td>\n",
       "    </tr>\n",
       "  </tbody>\n",
       "</table>\n",
       "<p>7500 rows × 6 columns</p>\n",
       "</div>"
      ],
      "text/plain": [
       "                x    theta1    theta2             v       dtheta1  \\\n",
       "1   -7.488431e-04  3.133450  3.149512 -1.370901e-01 -5.020729e-01   \n",
       "2   -1.101508e-02  3.102022  3.163383 -3.748407e-01 -1.051982e+00   \n",
       "3   -3.058420e-02  3.051139  3.177255 -6.012427e-01 -1.464162e+00   \n",
       "4   -5.889750e-02  2.987363  3.181798 -8.114937e-01 -1.692392e+00   \n",
       "5   -9.526696e-02  2.918258  3.166932 -1.004087e+00 -1.733453e+00   \n",
       "..            ...       ...       ...           ...           ...   \n",
       "246  6.818339e-15  6.283185  6.283185  3.175741e-14 -1.139458e-13   \n",
       "247  7.801362e-15  6.283185  6.283185  2.099595e-14 -8.508598e-14   \n",
       "248  7.972631e-15  6.283185  6.283185 -4.195826e-15 -2.251345e-14   \n",
       "249  7.436722e-15  6.283185  6.283185 -1.809206e-14  1.199991e-14   \n",
       "250  6.510435e-15  6.283185  6.283185 -2.574246e-14  3.116034e-14   \n",
       "\n",
       "          dtheta2  \n",
       "1    2.878609e-01  \n",
       "2    3.802354e-01  \n",
       "3    2.733351e-01  \n",
       "4   -8.955114e-02  \n",
       "5   -6.872780e-01  \n",
       "..            ...  \n",
       "246 -3.477301e-14  \n",
       "247 -3.191238e-14  \n",
       "248 -3.744042e-14  \n",
       "249 -3.577486e-14  \n",
       "250 -3.084062e-14  \n",
       "\n",
       "[7500 rows x 6 columns]"
      ]
     },
     "execution_count": 348,
     "metadata": {},
     "output_type": "execute_result"
    }
   ],
   "source": [
    "x = df1_x.append(df2_x).append(df3_x).append(df4_x).append(df5_x).append(df6_x).append(df7_x).append(df8_x).append(df9_x).append(df10_x).append(df11_x).append(df12_x).append(df13_x).append(df14_x).append(df15_x).append(df16_x).append(df17_x).append(df18_x).append(df19_x).append(df20_x).append(df21_x).append(df22_x).append(df23_x).append(df24_x).append(df25_x).append(df26_x).append(df27_x).append(df28_x).append(df29_x).append(df30_x)\n",
    "#x = df23_x.append(df24_x).append(df25_x).append(df26_x).append(df27_x).append(df28_x).append(df29_x).append(df30_x)\n",
    "x_renamed = x.rename(columns={0:\"x\",1:\"theta1\",2:\"theta2\",3:\"v\",4:\"dtheta1\",5:\"dtheta2\"})\n",
    "x_renamed"
   ]
  },
  {
   "cell_type": "code",
   "execution_count": 4,
   "metadata": {},
   "outputs": [],
   "source": [
    "x=df1_x.append(df3_x).append(df3_x1).append(df3_x2).append(df3_x3).append(df3_x4).append(df3_x5).append(df3_x6).append(df3_x7).append(df3_x8)\n",
    "x_renamed = x.rename(columns={0:\"x\",1:\"theta1\",2:\"theta2\",3:\"v\",4:\"dtheta1\",5:\"dtheta2\"})\n",
    "y=df1_f.append(df3_f).append(df3_f1).append(df3_f2).append(df3_f3).append(df3_f4).append(df3_f5).append(df3_f6).append(df3_f7).append(df3_f8)\n",
    "y_renamed = y.rename(columns={0:\"F\"}).to_numpy()"
   ]
  },
  {
   "cell_type": "code",
   "execution_count": 349,
   "metadata": {},
   "outputs": [
    {
     "data": {
      "text/plain": [
       "array([[-3.90435653e+00],\n",
       "       [-4.00000000e+00],\n",
       "       [-4.00000000e+00],\n",
       "       ...,\n",
       "       [-4.02057509e-13],\n",
       "       [-2.15898836e-13],\n",
       "       [-1.13240561e-13]])"
      ]
     },
     "execution_count": 349,
     "metadata": {},
     "output_type": "execute_result"
    }
   ],
   "source": [
    "y= df1_f.append(df2_f).append(df3_f).append(df4_f).append(df5_f).append(df6_f).append(df7_f).append(df8_f).append(df9_f).append(df10_f).append(df11_f).append(df12_f).append(df13_f).append(df14_f).append(df15_f).append(df16_f).append(df17_f).append(df18_f).append(df19_f).append(df20_f).append(df21_f).append(df22_f).append(df23_f).append(df24_f).append(df25_f).append(df26_f).append(df27_f).append(df28_f).append(df29_f).append(df30_f)\n",
    "#y= df23_f.append(df24_f).append(df25_f).append(df26_f).append(df27_f).append(df28_f).append(df29_f).append(df30_f)\n",
    "y_renamed = y.rename(columns={0:\"F\"}).to_numpy()\n",
    "y_renamed\n",
    "\n",
    "#we are not using this"
   ]
  },
  {
   "cell_type": "code",
   "execution_count": 292,
   "metadata": {},
   "outputs": [
    {
     "data": {
      "text/plain": [
       "pandas.core.frame.DataFrame"
      ]
     },
     "execution_count": 292,
     "metadata": {},
     "output_type": "execute_result"
    }
   ],
   "source": [
    "type(x)"
   ]
  },
  {
   "cell_type": "code",
   "execution_count": 5,
   "metadata": {},
   "outputs": [],
   "source": [
    "x_renamed['F'] = y_renamed\n",
    "#x_remaned = pd.concat([x_renamed, y_renamed], ignore_index=True)"
   ]
  },
  {
   "cell_type": "code",
   "execution_count": 29,
   "metadata": {},
   "outputs": [
    {
     "data": {
      "text/html": [
       "<div>\n",
       "<style scoped>\n",
       "    .dataframe tbody tr th:only-of-type {\n",
       "        vertical-align: middle;\n",
       "    }\n",
       "\n",
       "    .dataframe tbody tr th {\n",
       "        vertical-align: top;\n",
       "    }\n",
       "\n",
       "    .dataframe thead th {\n",
       "        text-align: right;\n",
       "    }\n",
       "</style>\n",
       "<table border=\"1\" class=\"dataframe\">\n",
       "  <thead>\n",
       "    <tr style=\"text-align: right;\">\n",
       "      <th></th>\n",
       "      <th>x</th>\n",
       "      <th>theta1</th>\n",
       "      <th>theta2</th>\n",
       "      <th>v</th>\n",
       "      <th>dtheta1</th>\n",
       "      <th>dtheta2</th>\n",
       "      <th>F</th>\n",
       "    </tr>\n",
       "  </thead>\n",
       "  <tbody>\n",
       "    <tr>\n",
       "      <th>1</th>\n",
       "      <td>0.0</td>\n",
       "      <td>0.0</td>\n",
       "      <td>0.0</td>\n",
       "      <td>0.0</td>\n",
       "      <td>0.0</td>\n",
       "      <td>0.0</td>\n",
       "      <td>0.0</td>\n",
       "    </tr>\n",
       "    <tr>\n",
       "      <th>2</th>\n",
       "      <td>0.0</td>\n",
       "      <td>0.0</td>\n",
       "      <td>0.0</td>\n",
       "      <td>0.0</td>\n",
       "      <td>0.0</td>\n",
       "      <td>0.0</td>\n",
       "      <td>0.0</td>\n",
       "    </tr>\n",
       "    <tr>\n",
       "      <th>3</th>\n",
       "      <td>0.0</td>\n",
       "      <td>0.0</td>\n",
       "      <td>0.0</td>\n",
       "      <td>0.0</td>\n",
       "      <td>0.0</td>\n",
       "      <td>0.0</td>\n",
       "      <td>0.0</td>\n",
       "    </tr>\n",
       "    <tr>\n",
       "      <th>4</th>\n",
       "      <td>0.0</td>\n",
       "      <td>0.0</td>\n",
       "      <td>0.0</td>\n",
       "      <td>0.0</td>\n",
       "      <td>0.0</td>\n",
       "      <td>0.0</td>\n",
       "      <td>0.0</td>\n",
       "    </tr>\n",
       "    <tr>\n",
       "      <th>5</th>\n",
       "      <td>0.0</td>\n",
       "      <td>0.0</td>\n",
       "      <td>0.0</td>\n",
       "      <td>0.0</td>\n",
       "      <td>0.0</td>\n",
       "      <td>0.0</td>\n",
       "      <td>0.0</td>\n",
       "    </tr>\n",
       "  </tbody>\n",
       "</table>\n",
       "</div>"
      ],
      "text/plain": [
       "     x  theta1  theta2    v  dtheta1  dtheta2    F\n",
       "1  0.0     0.0     0.0  0.0      0.0      0.0  0.0\n",
       "2  0.0     0.0     0.0  0.0      0.0      0.0  0.0\n",
       "3  0.0     0.0     0.0  0.0      0.0      0.0  0.0\n",
       "4  0.0     0.0     0.0  0.0      0.0      0.0  0.0\n",
       "5  0.0     0.0     0.0  0.0      0.0      0.0  0.0"
      ]
     },
     "execution_count": 29,
     "metadata": {},
     "output_type": "execute_result"
    }
   ],
   "source": [
    "x_renamed.head()"
   ]
  },
  {
   "cell_type": "code",
   "execution_count": 6,
   "metadata": {},
   "outputs": [
    {
     "data": {
      "text/plain": [
       "(2500, 7)"
      ]
     },
     "execution_count": 6,
     "metadata": {},
     "output_type": "execute_result"
    }
   ],
   "source": [
    "x_renamed.shape"
   ]
  },
  {
   "cell_type": "code",
   "execution_count": 296,
   "metadata": {},
   "outputs": [],
   "source": [
    "data_filtered = x_renamed.drop_duplicates()"
   ]
  },
  {
   "cell_type": "code",
   "execution_count": 297,
   "metadata": {},
   "outputs": [
    {
     "data": {
      "text/plain": [
       "(1, 7)"
      ]
     },
     "execution_count": 297,
     "metadata": {},
     "output_type": "execute_result"
    }
   ],
   "source": [
    "data_filtered.shape"
   ]
  },
  {
   "cell_type": "code",
   "execution_count": 299,
   "metadata": {},
   "outputs": [
    {
     "ename": "ValueError",
     "evalue": "With n_samples=1, test_size=0.2 and train_size=None, the resulting train set will be empty. Adjust any of the aforementioned parameters.",
     "output_type": "error",
     "traceback": [
      "\u001b[1;31m---------------------------------------------------------------------------\u001b[0m",
      "\u001b[1;31mValueError\u001b[0m                                Traceback (most recent call last)",
      "\u001b[1;32m<ipython-input-299-5581172f1ad4>\u001b[0m in \u001b[0;36m<module>\u001b[1;34m\u001b[0m\n\u001b[1;32m----> 1\u001b[1;33m \u001b[0mtrain\u001b[0m\u001b[1;33m,\u001b[0m \u001b[0mtest\u001b[0m \u001b[1;33m=\u001b[0m \u001b[0mtrain_test_split\u001b[0m\u001b[1;33m(\u001b[0m\u001b[0mdata_filtered\u001b[0m\u001b[1;33m,\u001b[0m \u001b[0mtest_size\u001b[0m\u001b[1;33m=\u001b[0m\u001b[1;36m0.2\u001b[0m\u001b[1;33m,\u001b[0m \u001b[0mrandom_state\u001b[0m\u001b[1;33m=\u001b[0m\u001b[1;36m42\u001b[0m\u001b[1;33m,\u001b[0m \u001b[0mshuffle\u001b[0m\u001b[1;33m=\u001b[0m\u001b[1;32mTrue\u001b[0m\u001b[1;33m)\u001b[0m\u001b[1;33m\u001b[0m\u001b[1;33m\u001b[0m\u001b[0m\n\u001b[0m",
      "\u001b[1;32mD:\\Study Materials\\Machine Learning Methods for Engineers\\Anaconda\\lib\\site-packages\\sklearn\\model_selection\\_split.py\u001b[0m in \u001b[0;36mtrain_test_split\u001b[1;34m(*arrays, **options)\u001b[0m\n\u001b[0;32m   2128\u001b[0m \u001b[1;33m\u001b[0m\u001b[0m\n\u001b[0;32m   2129\u001b[0m     \u001b[0mn_samples\u001b[0m \u001b[1;33m=\u001b[0m \u001b[0m_num_samples\u001b[0m\u001b[1;33m(\u001b[0m\u001b[0marrays\u001b[0m\u001b[1;33m[\u001b[0m\u001b[1;36m0\u001b[0m\u001b[1;33m]\u001b[0m\u001b[1;33m)\u001b[0m\u001b[1;33m\u001b[0m\u001b[1;33m\u001b[0m\u001b[0m\n\u001b[1;32m-> 2130\u001b[1;33m     n_train, n_test = _validate_shuffle_split(n_samples, test_size, train_size,\n\u001b[0m\u001b[0;32m   2131\u001b[0m                                               default_test_size=0.25)\n\u001b[0;32m   2132\u001b[0m \u001b[1;33m\u001b[0m\u001b[0m\n",
      "\u001b[1;32mD:\\Study Materials\\Machine Learning Methods for Engineers\\Anaconda\\lib\\site-packages\\sklearn\\model_selection\\_split.py\u001b[0m in \u001b[0;36m_validate_shuffle_split\u001b[1;34m(n_samples, test_size, train_size, default_test_size)\u001b[0m\n\u001b[0;32m   1808\u001b[0m \u001b[1;33m\u001b[0m\u001b[0m\n\u001b[0;32m   1809\u001b[0m     \u001b[1;32mif\u001b[0m \u001b[0mn_train\u001b[0m \u001b[1;33m==\u001b[0m \u001b[1;36m0\u001b[0m\u001b[1;33m:\u001b[0m\u001b[1;33m\u001b[0m\u001b[1;33m\u001b[0m\u001b[0m\n\u001b[1;32m-> 1810\u001b[1;33m         raise ValueError(\n\u001b[0m\u001b[0;32m   1811\u001b[0m             \u001b[1;34m'With n_samples={}, test_size={} and train_size={}, the '\u001b[0m\u001b[1;33m\u001b[0m\u001b[1;33m\u001b[0m\u001b[0m\n\u001b[0;32m   1812\u001b[0m             \u001b[1;34m'resulting train set will be empty. Adjust any of the '\u001b[0m\u001b[1;33m\u001b[0m\u001b[1;33m\u001b[0m\u001b[0m\n",
      "\u001b[1;31mValueError\u001b[0m: With n_samples=1, test_size=0.2 and train_size=None, the resulting train set will be empty. Adjust any of the aforementioned parameters."
     ]
    }
   ],
   "source": [
    "train, test = train_test_split(data_filtered, test_size=0.2, random_state=42, shuffle=True)"
   ]
  },
  {
   "cell_type": "code",
   "execution_count": 25,
   "metadata": {},
   "outputs": [],
   "source": [
    "x_train = train[['x', 'theta1', 'theta2', 'v', 'dtheta1', 'dtheta2']]\n",
    "y_train = train[['F']]\n",
    "\n",
    "x_test = test[['x', 'theta1', 'theta2', 'v', 'dtheta1', 'dtheta2']]\n",
    "y_test = test[['F']]"
   ]
  },
  {
   "cell_type": "code",
   "execution_count": 7,
   "metadata": {},
   "outputs": [],
   "source": [
    "x_train = x_renamed[['x', 'theta1', 'theta2', 'v', 'dtheta1', 'dtheta2']]\n",
    "y_train = x_renamed[['F']]"
   ]
  },
  {
   "cell_type": "code",
   "execution_count": 8,
   "metadata": {},
   "outputs": [],
   "source": [
    "def init_weights(architecture):\n",
    "    W = []\n",
    "    b = []\n",
    "    np.random.seed(1)\n",
    "    hidden_layers = len(architecture)-1\n",
    "    for i in range(hidden_layers):\n",
    "        W.append(np.random.randn(architecture[i+1]).reshape(-1,1))\n",
    "        b.append(np.zeros(architecture[i+1]).reshape(-1,1))\n",
    "    return W,b"
   ]
  },
  {
   "cell_type": "code",
   "execution_count": 9,
   "metadata": {},
   "outputs": [
    {
     "data": {
      "text/plain": [
       "(25, 1)"
      ]
     },
     "execution_count": 9,
     "metadata": {},
     "output_type": "execute_result"
    }
   ],
   "source": [
    "architecture = [6, 25, 25, 1]\n",
    "W, b = init_weights(architecture)\n",
    "W[0].shape"
   ]
  },
  {
   "cell_type": "code",
   "execution_count": 10,
   "metadata": {},
   "outputs": [
    {
     "ename": "NameError",
     "evalue": "name 'x_test' is not defined",
     "output_type": "error",
     "traceback": [
      "\u001b[1;31m---------------------------------------------------------------------------\u001b[0m",
      "\u001b[1;31mNameError\u001b[0m                                 Traceback (most recent call last)",
      "\u001b[1;32m<ipython-input-10-189e6887f2da>\u001b[0m in \u001b[0;36m<module>\u001b[1;34m\u001b[0m\n\u001b[1;32m----> 1\u001b[1;33m \u001b[0mx_test\u001b[0m\u001b[1;33m.\u001b[0m\u001b[0mshape\u001b[0m\u001b[1;33m\u001b[0m\u001b[1;33m\u001b[0m\u001b[0m\n\u001b[0m",
      "\u001b[1;31mNameError\u001b[0m: name 'x_test' is not defined"
     ]
    }
   ],
   "source": [
    "x_test.shape"
   ]
  },
  {
   "cell_type": "code",
   "execution_count": 11,
   "metadata": {},
   "outputs": [
    {
     "data": {
      "text/plain": [
       "(2500, 6)"
      ]
     },
     "execution_count": 11,
     "metadata": {},
     "output_type": "execute_result"
    }
   ],
   "source": [
    "x_train.shape"
   ]
  },
  {
   "cell_type": "code",
   "execution_count": 12,
   "metadata": {},
   "outputs": [],
   "source": [
    "tf.random.set_seed(99) # Seeding to get reproducable results\n",
    "\n",
    "# Variant 2: For the sake of completeness \n",
    "# this is an alternative way to write the sequential model.\n",
    "Imitation_model = keras.Sequential(\n",
    "    [\n",
    "        keras.layers.InputLayer(input_shape=(6,), name='input'),\n",
    "        keras.layers.Dense(5, activation='tanh', name='hidden_1'),\n",
    "        keras.layers.Dense(4, activation='tanh', name='hidden_2'),\n",
    "        keras.layers.Dense(4, activation='tanh', name='hidden_3'),\n",
    "        keras.layers.Dense(3, activation='tanh', name='hidden_4'),\n",
    "        keras.layers.Dense(3, activation='tanh', name='hidden_5'),\n",
    "        keras.layers.Dense(2, activation='tanh', name='hidden_6'),\n",
    "        #keras.layers.Dense(1, activation='tanh', name='hidden_7'),\n",
    "        keras.layers.Dense(1 , name='output'),\n",
    "    ],\n",
    "    name='simple_model'\n",
    ")\n",
    "#activation='linear'"
   ]
  },
  {
   "cell_type": "markdown",
   "metadata": {},
   "source": [
    " "
   ]
  },
  {
   "cell_type": "markdown",
   "metadata": {},
   "source": []
  },
  {
   "cell_type": "code",
   "execution_count": 13,
   "metadata": {},
   "outputs": [
    {
     "name": "stdout",
     "output_type": "stream",
     "text": [
      "Model: \"simple_model\"\n",
      "_________________________________________________________________\n",
      "Layer (type)                 Output Shape              Param #   \n",
      "=================================================================\n",
      "hidden_1 (Dense)             (None, 5)                 35        \n",
      "_________________________________________________________________\n",
      "hidden_2 (Dense)             (None, 4)                 24        \n",
      "_________________________________________________________________\n",
      "hidden_3 (Dense)             (None, 4)                 20        \n",
      "_________________________________________________________________\n",
      "hidden_4 (Dense)             (None, 3)                 15        \n",
      "_________________________________________________________________\n",
      "hidden_5 (Dense)             (None, 3)                 12        \n",
      "_________________________________________________________________\n",
      "hidden_6 (Dense)             (None, 2)                 8         \n",
      "_________________________________________________________________\n",
      "output (Dense)               (None, 1)                 3         \n",
      "=================================================================\n",
      "Total params: 117\n",
      "Trainable params: 117\n",
      "Non-trainable params: 0\n",
      "_________________________________________________________________\n"
     ]
    }
   ],
   "source": [
    "Imitation_model.summary()"
   ]
  },
  {
   "cell_type": "code",
   "execution_count": 14,
   "metadata": {},
   "outputs": [
    {
     "data": {
      "text/plain": [
       "(2500, 6)"
      ]
     },
     "execution_count": 14,
     "metadata": {},
     "output_type": "execute_result"
    }
   ],
   "source": [
    "y_hat = Imitation_model.predict(x_train)\n",
    "x_train.to_numpy().shape"
   ]
  },
  {
   "cell_type": "code",
   "execution_count": 15,
   "metadata": {},
   "outputs": [],
   "source": [
    "Imitation_model.compile(\n",
    "    # Optimization algorithm\n",
    "    optimizer=tf.keras.optimizers.Adagrad(learning_rate=0.01),\n",
    "    # Loss function to minimize\n",
    "    loss=tf.keras.losses.MSE,\n",
    ")"
   ]
  },
  {
   "cell_type": "code",
   "execution_count": 23,
   "metadata": {},
   "outputs": [
    {
     "name": "stdout",
     "output_type": "stream",
     "text": [
      "Epoch 1/50\n",
      "79/79 [==============================] - 0s 1ms/step - loss: 0.0920\n",
      "Epoch 2/50\n",
      "79/79 [==============================] - 0s 1ms/step - loss: 0.0921\n",
      "Epoch 3/50\n",
      "79/79 [==============================] - 0s 1ms/step - loss: 0.0920\n",
      "Epoch 4/50\n",
      "79/79 [==============================] - 0s 1ms/step - loss: 0.0919\n",
      "Epoch 5/50\n",
      "79/79 [==============================] - 0s 1ms/step - loss: 0.0916\n",
      "Epoch 6/50\n",
      "79/79 [==============================] - 0s 1ms/step - loss: 0.0916\n",
      "Epoch 7/50\n",
      "79/79 [==============================] - 0s 1ms/step - loss: 0.0914\n",
      "Epoch 8/50\n",
      "79/79 [==============================] - 0s 1ms/step - loss: 0.0914\n",
      "Epoch 9/50\n",
      "79/79 [==============================] - 0s 1ms/step - loss: 0.0913\n",
      "Epoch 10/50\n",
      "79/79 [==============================] - 0s 1ms/step - loss: 0.0911\n",
      "Epoch 11/50\n",
      "79/79 [==============================] - 0s 1ms/step - loss: 0.0910\n",
      "Epoch 12/50\n",
      "79/79 [==============================] - 0s 1ms/step - loss: 0.0909\n",
      "Epoch 13/50\n",
      "79/79 [==============================] - 0s 1ms/step - loss: 0.0907\n",
      "Epoch 14/50\n",
      "79/79 [==============================] - 0s 1ms/step - loss: 0.0906\n",
      "Epoch 15/50\n",
      "79/79 [==============================] - 0s 1ms/step - loss: 0.0904\n",
      "Epoch 16/50\n",
      "79/79 [==============================] - 0s 1ms/step - loss: 0.0903\n",
      "Epoch 17/50\n",
      "79/79 [==============================] - 0s 974us/step - loss: 0.0903\n",
      "Epoch 18/50\n",
      "79/79 [==============================] - 0s 974us/step - loss: 0.0901\n",
      "Epoch 19/50\n",
      "79/79 [==============================] - 0s 974us/step - loss: 0.0899\n",
      "Epoch 20/50\n",
      "79/79 [==============================] - 0s 1ms/step - loss: 0.0898\n",
      "Epoch 21/50\n",
      "79/79 [==============================] - 0s 1ms/step - loss: 0.0897\n",
      "Epoch 22/50\n",
      "79/79 [==============================] - 0s 1ms/step - loss: 0.0896\n",
      "Epoch 23/50\n",
      "79/79 [==============================] - 0s 2ms/step - loss: 0.0895\n",
      "Epoch 24/50\n",
      "79/79 [==============================] - 0s 1ms/step - loss: 0.0895\n",
      "Epoch 25/50\n",
      "79/79 [==============================] - 0s 1ms/step - loss: 0.0893\n",
      "Epoch 26/50\n",
      "79/79 [==============================] - 0s 1ms/step - loss: 0.0891\n",
      "Epoch 27/50\n",
      "79/79 [==============================] - 0s 1ms/step - loss: 0.0891\n",
      "Epoch 28/50\n",
      "79/79 [==============================] - 0s 1ms/step - loss: 0.0889\n",
      "Epoch 29/50\n",
      "79/79 [==============================] - 0s 1ms/step - loss: 0.0889\n",
      "Epoch 30/50\n",
      "79/79 [==============================] - 0s 1ms/step - loss: 0.0887\n",
      "Epoch 31/50\n",
      "79/79 [==============================] - 0s 1ms/step - loss: 0.0886\n",
      "Epoch 32/50\n",
      "79/79 [==============================] - 0s 1ms/step - loss: 0.0885\n",
      "Epoch 33/50\n",
      "79/79 [==============================] - 0s 1ms/step - loss: 0.0884\n",
      "Epoch 34/50\n",
      "79/79 [==============================] - 0s 1ms/step - loss: 0.0883\n",
      "Epoch 35/50\n",
      "79/79 [==============================] - 0s 1ms/step - loss: 0.0882\n",
      "Epoch 36/50\n",
      "79/79 [==============================] - 0s 1ms/step - loss: 0.0880\n",
      "Epoch 37/50\n",
      "79/79 [==============================] - 0s 1ms/step - loss: 0.0880\n",
      "Epoch 38/50\n",
      "79/79 [==============================] - 0s 1ms/step - loss: 0.0879\n",
      "Epoch 39/50\n",
      "79/79 [==============================] - 0s 1ms/step - loss: 0.0877\n",
      "Epoch 40/50\n",
      "79/79 [==============================] - 0s 936us/step - loss: 0.0876\n",
      "Epoch 41/50\n",
      "79/79 [==============================] - 0s 1ms/step - loss: 0.0875\n",
      "Epoch 42/50\n",
      "79/79 [==============================] - 0s 1ms/step - loss: 0.0874\n",
      "Epoch 43/50\n",
      "79/79 [==============================] - 0s 1ms/step - loss: 0.0872\n",
      "Epoch 44/50\n",
      "79/79 [==============================] - 0s 2ms/step - loss: 0.0873\n",
      "Epoch 45/50\n",
      "79/79 [==============================] - 0s 1ms/step - loss: 0.0871\n",
      "Epoch 46/50\n",
      "79/79 [==============================] - 0s 1ms/step - loss: 0.0870\n",
      "Epoch 47/50\n",
      "79/79 [==============================] - 0s 1ms/step - loss: 0.0869\n",
      "Epoch 48/50\n",
      "79/79 [==============================] - 0s 1ms/step - loss: 0.0868\n",
      "Epoch 49/50\n",
      "79/79 [==============================] - 0s 1ms/step - loss: 0.0866\n",
      "Epoch 50/50\n",
      "79/79 [==============================] - 0s 1ms/step - loss: 0.0866\n"
     ]
    }
   ],
   "source": [
    "history = Imitation_model.fit(\n",
    "    x_train, \n",
    "    y_train,\n",
    "    epochs=50,\n",
    "    verbose=1,\n",
    "    #validation_data=(x_test, y_test)\n",
    ")"
   ]
  },
  {
   "cell_type": "code",
   "execution_count": 474,
   "metadata": {},
   "outputs": [],
   "source": [
    "y_hat = Imitation_model.predict(x_test)"
   ]
  },
  {
   "cell_type": "code",
   "execution_count": 267,
   "metadata": {},
   "outputs": [
    {
     "data": {
      "text/plain": [
       "0.821262653002182"
      ]
     },
     "execution_count": 267,
     "metadata": {},
     "output_type": "execute_result"
    }
   ],
   "source": [
    "sklearn.metrics.r2_score(y_hat,y_test)"
   ]
  },
  {
   "cell_type": "code",
   "execution_count": 24,
   "metadata": {},
   "outputs": [
    {
     "name": "stdout",
     "output_type": "stream",
     "text": [
      "INFO:tensorflow:Assets written to: Imitation_model\\assets\n"
     ]
    }
   ],
   "source": [
    "#Save model to file\n",
    "Imitation_model.save(\"Imitation_model\",'./')"
   ]
  },
  {
   "cell_type": "code",
   "execution_count": 25,
   "metadata": {},
   "outputs": [
    {
     "name": "stdout",
     "output_type": "stream",
     "text": [
      "Saved model to disk\n"
     ]
    }
   ],
   "source": [
    "from keras.models import model_from_json\n",
    "# serialize model to JSON\n",
    "model_json = Imitation_model.to_json()\n",
    "with open(\"Imitation_model.json\", \"w\") as json_file:\n",
    "    json_file.write(model_json)\n",
    "# serialize weights to HDF5\n",
    "Imitation_model.save_weights(\"Imitation_model.h5\")\n",
    "print(\"Saved model to disk\")"
   ]
  },
  {
   "cell_type": "code",
   "execution_count": 26,
   "metadata": {},
   "outputs": [
    {
     "name": "stdout",
     "output_type": "stream",
     "text": [
      "Loaded model from disk\n"
     ]
    }
   ],
   "source": [
    "# load json and create model\n",
    "json_file = open('Imitation_model.json', 'r')\n",
    "loaded_model_json = json_file.read()\n",
    "json_file.close()\n",
    "loaded_model = model_from_json(loaded_model_json)\n",
    "# load weights into new model\n",
    "loaded_model.load_weights(\"Imitation_model.h5\")\n",
    "print(\"Loaded model from disk\")"
   ]
  },
  {
   "cell_type": "code",
   "execution_count": 27,
   "metadata": {},
   "outputs": [
    {
     "name": "stdout",
     "output_type": "stream",
     "text": [
      "     0\n",
      "0  0.0\n",
      "1  0.0\n",
      "2  0.0\n",
      "3  0.0\n",
      "4  0.0\n",
      "5  0.0\n",
      "[[-0.0072085]]\n"
     ]
    }
   ],
   "source": [
    "\n",
    "x0 = pd.DataFrame([0.0,0.0,0.0,0.0,0.0,0.0])\n",
    "print(x0)\n",
    "prediction = loaded_model.predict(x0.T)\n",
    "print(prediction)"
   ]
  },
  {
   "cell_type": "code",
   "execution_count": null,
   "metadata": {},
   "outputs": [],
   "source": []
  }
 ],
 "metadata": {
  "kernelspec": {
   "display_name": "Python 3",
   "language": "python",
   "name": "python3"
  },
  "language_info": {
   "codemirror_mode": {
    "name": "ipython",
    "version": 3
   },
   "file_extension": ".py",
   "mimetype": "text/x-python",
   "name": "python",
   "nbconvert_exporter": "python",
   "pygments_lexer": "ipython3",
   "version": "3.8.5"
  }
 },
 "nbformat": 4,
 "nbformat_minor": 4
}
