{
 "cells": [
  {
   "cell_type": "code",
   "execution_count": 120,
   "metadata": {},
   "outputs": [],
   "source": [
    "import tensorflow as tf\n",
    "from tensorflow import keras\n",
    "import pandas as pd\n",
    "import numpy as np\n",
    "import matplotlib.pyplot as plt"
   ]
  },
  {
   "cell_type": "code",
   "execution_count": 122,
   "metadata": {},
   "outputs": [],
   "source": [
    "def figure_1d_data(x_test=None, y_hat=None):\n",
    "    fig, ax = plt.subplots()\n",
    "    ax.plot(x_train.flatten(),y_true.flatten(),label='true')\n",
    "    ax.set_prop_cycle(None)\n",
    "    ax.plot(x_train.flatten(),y_train.flatten(),'x', label='measured')\n",
    "    \n",
    "    if x_test is not None:\n",
    "        ax.plot(x_test.flatten(),y_hat.flatten(), label='predicted') \n",
    "    \n",
    "    ax.set_xlabel('x')\n",
    "    ax.set_ylabel('y')\n",
    "\n",
    "    ax.legend()\n",
    "\n",
    "    fig.tight_layout()\n",
    "    \n",
    "    return fig, ax"
   ]
  },
  {
   "cell_type": "code",
   "execution_count": 33,
   "metadata": {},
   "outputs": [],
   "source": [
    "df1_x = pd.read_excel('./mlme_data_set/Dataset/df1/val_X.xls',header=None).iloc[1: , :]\n",
    "df2_x = pd.read_excel('./mlme_data_set/Dataset/df2/val_X.xls',header=None).iloc[1: , :]\n",
    "df3_x = pd.read_excel('./mlme_data_set/Dataset/df3/val_X.xls',header=None).iloc[1: , :]\n",
    "df4_x = pd.read_excel('./mlme_data_set/Dataset/df4/val_X.xls',header=None).iloc[1: , :]\n",
    "df5_x = pd.read_excel('./mlme_data_set/Dataset/df5/val_X.xls',header=None).iloc[1: , :]\n",
    "df6_x = pd.read_excel('./mlme_data_set/Dataset/df6/val_X.xls',header=None).iloc[1: , :]\n",
    "df7_x = pd.read_excel('./mlme_data_set/Dataset/df7/val_X.xls',header=None).iloc[1: , :]\n",
    "df8_x = pd.read_excel('./mlme_data_set/Dataset/df8/val_X.xls',header=None).iloc[1: , :]\n",
    "df9_x = pd.read_excel('./mlme_data_set/Dataset/df9/val_X.xls',header=None).iloc[1: , :]\n",
    "df10_x = pd.read_excel('./mlme_data_set/Dataset/df10/val_X.xls',header=None).iloc[1: , :]\n",
    "df11_x = pd.read_excel('./mlme_data_set/Dataset/df11/val_X.xls',header=None).iloc[1: , :]\n",
    "df12_x = pd.read_excel('./mlme_data_set/Dataset/df12/val_X.xls',header=None).iloc[1: , :]\n",
    "df13_x = pd.read_excel('./mlme_data_set/Dataset/df13/val_X.xls',header=None).iloc[1: , :]\n",
    "df14_x = pd.read_excel('./mlme_data_set/Dataset/df14/val_X.xls',header=None).iloc[1: , :]\n",
    "df15_x = pd.read_excel('./mlme_data_set/Dataset/df15/val_X.xls',header=None).iloc[1: , :]\n",
    "df16_x = pd.read_excel('./mlme_data_set/Dataset/df16/val_X.xls',header=None).iloc[1: , :]\n",
    "df17_x = pd.read_excel('./mlme_data_set/Dataset/df17/val_X.xls',header=None).iloc[1: , :]\n",
    "df18_x = pd.read_excel('./mlme_data_set/Dataset/df18/val_X.xls',header=None).iloc[1: , :]\n",
    "df19_x = pd.read_excel('./mlme_data_set/Dataset/df19/val_X.xls',header=None).iloc[1: , :]"
   ]
  },
  {
   "cell_type": "code",
   "execution_count": 30,
   "metadata": {},
   "outputs": [
    {
     "data": {
      "text/html": [
       "<div>\n",
       "<style scoped>\n",
       "    .dataframe tbody tr th:only-of-type {\n",
       "        vertical-align: middle;\n",
       "    }\n",
       "\n",
       "    .dataframe tbody tr th {\n",
       "        vertical-align: top;\n",
       "    }\n",
       "\n",
       "    .dataframe thead th {\n",
       "        text-align: right;\n",
       "    }\n",
       "</style>\n",
       "<table border=\"1\" class=\"dataframe\">\n",
       "  <thead>\n",
       "    <tr style=\"text-align: right;\">\n",
       "      <th></th>\n",
       "      <th>0</th>\n",
       "      <th>1</th>\n",
       "      <th>2</th>\n",
       "      <th>3</th>\n",
       "      <th>4</th>\n",
       "      <th>5</th>\n",
       "    </tr>\n",
       "  </thead>\n",
       "  <tbody>\n",
       "    <tr>\n",
       "      <th>1</th>\n",
       "      <td>-0.000749</td>\n",
       "      <td>3.133450</td>\n",
       "      <td>3.149512</td>\n",
       "      <td>-0.137090</td>\n",
       "      <td>-0.502073</td>\n",
       "      <td>0.287861</td>\n",
       "    </tr>\n",
       "    <tr>\n",
       "      <th>2</th>\n",
       "      <td>-0.011015</td>\n",
       "      <td>3.102022</td>\n",
       "      <td>3.163383</td>\n",
       "      <td>-0.374841</td>\n",
       "      <td>-1.051982</td>\n",
       "      <td>0.380235</td>\n",
       "    </tr>\n",
       "    <tr>\n",
       "      <th>3</th>\n",
       "      <td>-0.030584</td>\n",
       "      <td>3.051139</td>\n",
       "      <td>3.177255</td>\n",
       "      <td>-0.601243</td>\n",
       "      <td>-1.464162</td>\n",
       "      <td>0.273335</td>\n",
       "    </tr>\n",
       "  </tbody>\n",
       "</table>\n",
       "</div>"
      ],
      "text/plain": [
       "          0         1         2         3         4         5\n",
       "1 -0.000749  3.133450  3.149512 -0.137090 -0.502073  0.287861\n",
       "2 -0.011015  3.102022  3.163383 -0.374841 -1.051982  0.380235\n",
       "3 -0.030584  3.051139  3.177255 -0.601243 -1.464162  0.273335"
      ]
     },
     "execution_count": 30,
     "metadata": {},
     "output_type": "execute_result"
    }
   ],
   "source": [
    "df1_x.head(3)"
   ]
  },
  {
   "cell_type": "code",
   "execution_count": 19,
   "metadata": {},
   "outputs": [],
   "source": [
    "df1_f = pd.read_excel('./mlme_data_set/Dataset/df1/val_F.xls',header=None)\n",
    "df2_f = pd.read_excel('./mlme_data_set/Dataset/df2/val_F.xls',header=None)\n",
    "df3_f = pd.read_excel('./mlme_data_set/Dataset/df3/val_F.xls',header=None)\n",
    "df4_f = pd.read_excel('./mlme_data_set/Dataset/df4/val_F.xls',header=None)\n",
    "df5_f = pd.read_excel('./mlme_data_set/Dataset/df5/val_F.xls',header=None)\n",
    "df6_f = pd.read_excel('/mlme_data_set/Dataset/df6/val_F.xls',header=None)\n",
    "df7_f = pd.read_excel('./mlme_data_set/Dataset/df7/val_F.xls',header=None)\n",
    "df8_f = pd.read_excel('./mlme_data_set/Dataset/df8/val_F.xls',header=None)\n",
    "df9_f = pd.read_excel('./mlme_data_set/Dataset/df9/val_F.xls',header=None)\n",
    "df10_f = pd.read_excel('./mlme_data_set/Dataset/df10/val_F.xls',header=None)\n",
    "df11_f = pd.read_excel('./mlme_data_set/Dataset/df11/val_F.xls',header=None)\n",
    "df12_f = pd.read_excel('./mlme_data_set/Dataset/df12/val_F.xls',header=None)\n",
    "df13_f = pd.read_excel('./mlme_data_set/Dataset/df13/val_F.xls',header=None)\n",
    "df14_f = pd.read_excel('./mlme_data_set/Dataset/df14/val_F.xls',header=None)\n",
    "df15_f = pd.read_excel('./mlme_data_set/Dataset/df15/val_F.xls',header=None)\n",
    "df16_f = pd.read_excel('./mlme_data_set/Dataset/df16/val_F.xls',header=None)\n",
    "df17_f = pd.read_excel('./mlme_data_set/Dataset/df17/val_F.xls',header=None)\n",
    "df18_f = pd.read_excel('./mlme_data_set/Dataset/df18/val_F.xls',header=None)\n",
    "df19_f = pd.read_excel('./mlme_data_set/Dataset/df19/val_F.xls',header=None)"
   ]
  },
  {
   "cell_type": "code",
   "execution_count": 20,
   "metadata": {},
   "outputs": [
    {
     "data": {
      "text/html": [
       "<div>\n",
       "<style scoped>\n",
       "    .dataframe tbody tr th:only-of-type {\n",
       "        vertical-align: middle;\n",
       "    }\n",
       "\n",
       "    .dataframe tbody tr th {\n",
       "        vertical-align: top;\n",
       "    }\n",
       "\n",
       "    .dataframe thead th {\n",
       "        text-align: right;\n",
       "    }\n",
       "</style>\n",
       "<table border=\"1\" class=\"dataframe\">\n",
       "  <thead>\n",
       "    <tr style=\"text-align: right;\">\n",
       "      <th></th>\n",
       "      <th>0</th>\n",
       "    </tr>\n",
       "  </thead>\n",
       "  <tbody>\n",
       "    <tr>\n",
       "      <th>0</th>\n",
       "      <td>-4.0</td>\n",
       "    </tr>\n",
       "    <tr>\n",
       "      <th>1</th>\n",
       "      <td>-4.0</td>\n",
       "    </tr>\n",
       "    <tr>\n",
       "      <th>2</th>\n",
       "      <td>-4.0</td>\n",
       "    </tr>\n",
       "  </tbody>\n",
       "</table>\n",
       "</div>"
      ],
      "text/plain": [
       "     0\n",
       "0 -4.0\n",
       "1 -4.0\n",
       "2 -4.0"
      ]
     },
     "execution_count": 20,
     "metadata": {},
     "output_type": "execute_result"
    }
   ],
   "source": [
    "df2_f.head(3)"
   ]
  },
  {
   "cell_type": "code",
   "execution_count": 21,
   "metadata": {},
   "outputs": [
    {
     "data": {
      "text/plain": [
       "(250, 6)"
      ]
     },
     "execution_count": 21,
     "metadata": {},
     "output_type": "execute_result"
    }
   ],
   "source": [
    "df1_x.shape"
   ]
  },
  {
   "cell_type": "code",
   "execution_count": 74,
   "metadata": {},
   "outputs": [
    {
     "data": {
      "text/html": [
       "<div>\n",
       "<style scoped>\n",
       "    .dataframe tbody tr th:only-of-type {\n",
       "        vertical-align: middle;\n",
       "    }\n",
       "\n",
       "    .dataframe tbody tr th {\n",
       "        vertical-align: top;\n",
       "    }\n",
       "\n",
       "    .dataframe thead th {\n",
       "        text-align: right;\n",
       "    }\n",
       "</style>\n",
       "<table border=\"1\" class=\"dataframe\">\n",
       "  <thead>\n",
       "    <tr style=\"text-align: right;\">\n",
       "      <th></th>\n",
       "      <th>p</th>\n",
       "      <th>x1</th>\n",
       "      <th>x2</th>\n",
       "      <th>v</th>\n",
       "      <th>dtheta1</th>\n",
       "      <th>dtheta2</th>\n",
       "    </tr>\n",
       "  </thead>\n",
       "  <tbody>\n",
       "    <tr>\n",
       "      <th>1</th>\n",
       "      <td>-7.488431e-04</td>\n",
       "      <td>3.133450</td>\n",
       "      <td>3.149512</td>\n",
       "      <td>-1.370901e-01</td>\n",
       "      <td>-5.020729e-01</td>\n",
       "      <td>2.878609e-01</td>\n",
       "    </tr>\n",
       "    <tr>\n",
       "      <th>2</th>\n",
       "      <td>-1.101508e-02</td>\n",
       "      <td>3.102022</td>\n",
       "      <td>3.163383</td>\n",
       "      <td>-3.748407e-01</td>\n",
       "      <td>-1.051982e+00</td>\n",
       "      <td>3.802354e-01</td>\n",
       "    </tr>\n",
       "    <tr>\n",
       "      <th>3</th>\n",
       "      <td>-3.058420e-02</td>\n",
       "      <td>3.051139</td>\n",
       "      <td>3.177255</td>\n",
       "      <td>-6.012427e-01</td>\n",
       "      <td>-1.464162e+00</td>\n",
       "      <td>2.733351e-01</td>\n",
       "    </tr>\n",
       "    <tr>\n",
       "      <th>4</th>\n",
       "      <td>-5.889750e-02</td>\n",
       "      <td>2.987363</td>\n",
       "      <td>3.181798</td>\n",
       "      <td>-8.114937e-01</td>\n",
       "      <td>-1.692392e+00</td>\n",
       "      <td>-8.955114e-02</td>\n",
       "    </tr>\n",
       "    <tr>\n",
       "      <th>5</th>\n",
       "      <td>-9.526696e-02</td>\n",
       "      <td>2.918258</td>\n",
       "      <td>3.166932</td>\n",
       "      <td>-1.004087e+00</td>\n",
       "      <td>-1.733453e+00</td>\n",
       "      <td>-6.872780e-01</td>\n",
       "    </tr>\n",
       "    <tr>\n",
       "      <th>...</th>\n",
       "      <td>...</td>\n",
       "      <td>...</td>\n",
       "      <td>...</td>\n",
       "      <td>...</td>\n",
       "      <td>...</td>\n",
       "      <td>...</td>\n",
       "    </tr>\n",
       "    <tr>\n",
       "      <th>246</th>\n",
       "      <td>-4.499871e-09</td>\n",
       "      <td>6.283185</td>\n",
       "      <td>6.283185</td>\n",
       "      <td>6.464659e-09</td>\n",
       "      <td>-1.773990e-08</td>\n",
       "      <td>-2.061257e-08</td>\n",
       "    </tr>\n",
       "    <tr>\n",
       "      <th>247</th>\n",
       "      <td>-4.228756e-09</td>\n",
       "      <td>6.283185</td>\n",
       "      <td>6.283185</td>\n",
       "      <td>7.001052e-09</td>\n",
       "      <td>-1.614732e-08</td>\n",
       "      <td>-1.849709e-08</td>\n",
       "    </tr>\n",
       "    <tr>\n",
       "      <th>248</th>\n",
       "      <td>-3.940857e-09</td>\n",
       "      <td>6.283185</td>\n",
       "      <td>6.283185</td>\n",
       "      <td>7.342262e-09</td>\n",
       "      <td>-1.459354e-08</td>\n",
       "      <td>-1.659106e-08</td>\n",
       "    </tr>\n",
       "    <tr>\n",
       "      <th>249</th>\n",
       "      <td>-3.643374e-09</td>\n",
       "      <td>6.283185</td>\n",
       "      <td>6.283185</td>\n",
       "      <td>7.513473e-09</td>\n",
       "      <td>-1.309505e-08</td>\n",
       "      <td>-1.485713e-08</td>\n",
       "    </tr>\n",
       "    <tr>\n",
       "      <th>250</th>\n",
       "      <td>-3.342505e-09</td>\n",
       "      <td>6.283185</td>\n",
       "      <td>6.283185</td>\n",
       "      <td>7.539663e-09</td>\n",
       "      <td>-1.166578e-08</td>\n",
       "      <td>-1.326903e-08</td>\n",
       "    </tr>\n",
       "  </tbody>\n",
       "</table>\n",
       "<p>5250 rows × 6 columns</p>\n",
       "</div>"
      ],
      "text/plain": [
       "                p        x1        x2             v       dtheta1  \\\n",
       "1   -7.488431e-04  3.133450  3.149512 -1.370901e-01 -5.020729e-01   \n",
       "2   -1.101508e-02  3.102022  3.163383 -3.748407e-01 -1.051982e+00   \n",
       "3   -3.058420e-02  3.051139  3.177255 -6.012427e-01 -1.464162e+00   \n",
       "4   -5.889750e-02  2.987363  3.181798 -8.114937e-01 -1.692392e+00   \n",
       "5   -9.526696e-02  2.918258  3.166932 -1.004087e+00 -1.733453e+00   \n",
       "..            ...       ...       ...           ...           ...   \n",
       "246 -4.499871e-09  6.283185  6.283185  6.464659e-09 -1.773990e-08   \n",
       "247 -4.228756e-09  6.283185  6.283185  7.001052e-09 -1.614732e-08   \n",
       "248 -3.940857e-09  6.283185  6.283185  7.342262e-09 -1.459354e-08   \n",
       "249 -3.643374e-09  6.283185  6.283185  7.513473e-09 -1.309505e-08   \n",
       "250 -3.342505e-09  6.283185  6.283185  7.539663e-09 -1.166578e-08   \n",
       "\n",
       "          dtheta2  \n",
       "1    2.878609e-01  \n",
       "2    3.802354e-01  \n",
       "3    2.733351e-01  \n",
       "4   -8.955114e-02  \n",
       "5   -6.872780e-01  \n",
       "..            ...  \n",
       "246 -2.061257e-08  \n",
       "247 -1.849709e-08  \n",
       "248 -1.659106e-08  \n",
       "249 -1.485713e-08  \n",
       "250 -1.326903e-08  \n",
       "\n",
       "[5250 rows x 6 columns]"
      ]
     },
     "execution_count": 74,
     "metadata": {},
     "output_type": "execute_result"
    }
   ],
   "source": [
    "x = df1_x.append(df2_x).append(df3_x).append(df4_x).append(df5_x).append(df6_x).append(df7_x).append(df8_x).append(df9_x).append(df10_x).append(df11_x).append(df12_x).append(df13_x).append(df14_x).append(df15_x).append(df16_x).append(df17_x).append(df18_x).append(df19_x)\n",
    "x_renamed = x.rename(columns={0:\"p\",1:\"x1\",2:\"x2\",3:\"v\",4:\"dtheta1\",5:\"dtheta2\"})\n",
    "x_renamed"
   ]
  },
  {
   "cell_type": "code",
   "execution_count": 75,
   "metadata": {},
   "outputs": [
    {
     "data": {
      "text/plain": [
       "<bound method DataFrame.reindex of                 F\n",
       "0   -3.904357e+00\n",
       "1   -4.000000e+00\n",
       "2   -4.000000e+00\n",
       "3   -4.000000e+00\n",
       "4   -4.000000e+00\n",
       "..            ...\n",
       "245  2.789163e-08\n",
       "246  2.202638e-08\n",
       "247  1.673944e-08\n",
       "248  1.206699e-08\n",
       "249  7.999660e-09\n",
       "\n",
       "[5250 rows x 1 columns]>"
      ]
     },
     "execution_count": 75,
     "metadata": {},
     "output_type": "execute_result"
    }
   ],
   "source": [
    "y= df1_f.append(df2_f).append(df3_f).append(df4_f).append(df5_f).append(df6_f).append(df7_f).append(df8_f).append(df9_f).append(df10_f).append(df11_f).append(df12_f).append(df13_f).append(df14_f).append(df15_f).append(df16_f).append(df17_f).append(df18_f).append(df19_f)\n",
    "y_renamed = y.rename(columns={0:\"F\"}).reindex\n",
    "y_renamed"
   ]
  },
  {
   "cell_type": "code",
   "execution_count": 45,
   "metadata": {},
   "outputs": [
    {
     "data": {
      "text/plain": [
       "pandas.core.frame.DataFrame"
      ]
     },
     "execution_count": 45,
     "metadata": {},
     "output_type": "execute_result"
    }
   ],
   "source": [
    "type(x)"
   ]
  },
  {
   "cell_type": "code",
   "execution_count": 76,
   "metadata": {},
   "outputs": [],
   "source": [
    "x_renamed['F'] = y_renamed"
   ]
  },
  {
   "cell_type": "code",
   "execution_count": 77,
   "metadata": {},
   "outputs": [
    {
     "data": {
      "text/html": [
       "<div>\n",
       "<style scoped>\n",
       "    .dataframe tbody tr th:only-of-type {\n",
       "        vertical-align: middle;\n",
       "    }\n",
       "\n",
       "    .dataframe tbody tr th {\n",
       "        vertical-align: top;\n",
       "    }\n",
       "\n",
       "    .dataframe thead th {\n",
       "        text-align: right;\n",
       "    }\n",
       "</style>\n",
       "<table border=\"1\" class=\"dataframe\">\n",
       "  <thead>\n",
       "    <tr style=\"text-align: right;\">\n",
       "      <th></th>\n",
       "      <th>p</th>\n",
       "      <th>x1</th>\n",
       "      <th>x2</th>\n",
       "      <th>v</th>\n",
       "      <th>dtheta1</th>\n",
       "      <th>dtheta2</th>\n",
       "      <th>F</th>\n",
       "    </tr>\n",
       "  </thead>\n",
       "  <tbody>\n",
       "    <tr>\n",
       "      <th>1</th>\n",
       "      <td>-7.488431e-04</td>\n",
       "      <td>3.133450</td>\n",
       "      <td>3.149512</td>\n",
       "      <td>-1.370901e-01</td>\n",
       "      <td>-5.020729e-01</td>\n",
       "      <td>2.878609e-01</td>\n",
       "      <td>&lt;bound method DataFrame.reindex of            ...</td>\n",
       "    </tr>\n",
       "    <tr>\n",
       "      <th>2</th>\n",
       "      <td>-1.101508e-02</td>\n",
       "      <td>3.102022</td>\n",
       "      <td>3.163383</td>\n",
       "      <td>-3.748407e-01</td>\n",
       "      <td>-1.051982e+00</td>\n",
       "      <td>3.802354e-01</td>\n",
       "      <td>&lt;bound method DataFrame.reindex of            ...</td>\n",
       "    </tr>\n",
       "    <tr>\n",
       "      <th>3</th>\n",
       "      <td>-3.058420e-02</td>\n",
       "      <td>3.051139</td>\n",
       "      <td>3.177255</td>\n",
       "      <td>-6.012427e-01</td>\n",
       "      <td>-1.464162e+00</td>\n",
       "      <td>2.733351e-01</td>\n",
       "      <td>&lt;bound method DataFrame.reindex of            ...</td>\n",
       "    </tr>\n",
       "    <tr>\n",
       "      <th>4</th>\n",
       "      <td>-5.889750e-02</td>\n",
       "      <td>2.987363</td>\n",
       "      <td>3.181798</td>\n",
       "      <td>-8.114937e-01</td>\n",
       "      <td>-1.692392e+00</td>\n",
       "      <td>-8.955114e-02</td>\n",
       "      <td>&lt;bound method DataFrame.reindex of            ...</td>\n",
       "    </tr>\n",
       "    <tr>\n",
       "      <th>5</th>\n",
       "      <td>-9.526696e-02</td>\n",
       "      <td>2.918258</td>\n",
       "      <td>3.166932</td>\n",
       "      <td>-1.004087e+00</td>\n",
       "      <td>-1.733453e+00</td>\n",
       "      <td>-6.872780e-01</td>\n",
       "      <td>&lt;bound method DataFrame.reindex of            ...</td>\n",
       "    </tr>\n",
       "    <tr>\n",
       "      <th>...</th>\n",
       "      <td>...</td>\n",
       "      <td>...</td>\n",
       "      <td>...</td>\n",
       "      <td>...</td>\n",
       "      <td>...</td>\n",
       "      <td>...</td>\n",
       "      <td>...</td>\n",
       "    </tr>\n",
       "    <tr>\n",
       "      <th>246</th>\n",
       "      <td>-4.499871e-09</td>\n",
       "      <td>6.283185</td>\n",
       "      <td>6.283185</td>\n",
       "      <td>6.464659e-09</td>\n",
       "      <td>-1.773990e-08</td>\n",
       "      <td>-2.061257e-08</td>\n",
       "      <td>&lt;bound method DataFrame.reindex of            ...</td>\n",
       "    </tr>\n",
       "    <tr>\n",
       "      <th>247</th>\n",
       "      <td>-4.228756e-09</td>\n",
       "      <td>6.283185</td>\n",
       "      <td>6.283185</td>\n",
       "      <td>7.001052e-09</td>\n",
       "      <td>-1.614732e-08</td>\n",
       "      <td>-1.849709e-08</td>\n",
       "      <td>&lt;bound method DataFrame.reindex of            ...</td>\n",
       "    </tr>\n",
       "    <tr>\n",
       "      <th>248</th>\n",
       "      <td>-3.940857e-09</td>\n",
       "      <td>6.283185</td>\n",
       "      <td>6.283185</td>\n",
       "      <td>7.342262e-09</td>\n",
       "      <td>-1.459354e-08</td>\n",
       "      <td>-1.659106e-08</td>\n",
       "      <td>&lt;bound method DataFrame.reindex of            ...</td>\n",
       "    </tr>\n",
       "    <tr>\n",
       "      <th>249</th>\n",
       "      <td>-3.643374e-09</td>\n",
       "      <td>6.283185</td>\n",
       "      <td>6.283185</td>\n",
       "      <td>7.513473e-09</td>\n",
       "      <td>-1.309505e-08</td>\n",
       "      <td>-1.485713e-08</td>\n",
       "      <td>&lt;bound method DataFrame.reindex of            ...</td>\n",
       "    </tr>\n",
       "    <tr>\n",
       "      <th>250</th>\n",
       "      <td>-3.342505e-09</td>\n",
       "      <td>6.283185</td>\n",
       "      <td>6.283185</td>\n",
       "      <td>7.539663e-09</td>\n",
       "      <td>-1.166578e-08</td>\n",
       "      <td>-1.326903e-08</td>\n",
       "      <td>&lt;bound method DataFrame.reindex of            ...</td>\n",
       "    </tr>\n",
       "  </tbody>\n",
       "</table>\n",
       "<p>5250 rows × 7 columns</p>\n",
       "</div>"
      ],
      "text/plain": [
       "                p        x1        x2             v       dtheta1  \\\n",
       "1   -7.488431e-04  3.133450  3.149512 -1.370901e-01 -5.020729e-01   \n",
       "2   -1.101508e-02  3.102022  3.163383 -3.748407e-01 -1.051982e+00   \n",
       "3   -3.058420e-02  3.051139  3.177255 -6.012427e-01 -1.464162e+00   \n",
       "4   -5.889750e-02  2.987363  3.181798 -8.114937e-01 -1.692392e+00   \n",
       "5   -9.526696e-02  2.918258  3.166932 -1.004087e+00 -1.733453e+00   \n",
       "..            ...       ...       ...           ...           ...   \n",
       "246 -4.499871e-09  6.283185  6.283185  6.464659e-09 -1.773990e-08   \n",
       "247 -4.228756e-09  6.283185  6.283185  7.001052e-09 -1.614732e-08   \n",
       "248 -3.940857e-09  6.283185  6.283185  7.342262e-09 -1.459354e-08   \n",
       "249 -3.643374e-09  6.283185  6.283185  7.513473e-09 -1.309505e-08   \n",
       "250 -3.342505e-09  6.283185  6.283185  7.539663e-09 -1.166578e-08   \n",
       "\n",
       "          dtheta2                                                  F  \n",
       "1    2.878609e-01  <bound method DataFrame.reindex of            ...  \n",
       "2    3.802354e-01  <bound method DataFrame.reindex of            ...  \n",
       "3    2.733351e-01  <bound method DataFrame.reindex of            ...  \n",
       "4   -8.955114e-02  <bound method DataFrame.reindex of            ...  \n",
       "5   -6.872780e-01  <bound method DataFrame.reindex of            ...  \n",
       "..            ...                                                ...  \n",
       "246 -2.061257e-08  <bound method DataFrame.reindex of            ...  \n",
       "247 -1.849709e-08  <bound method DataFrame.reindex of            ...  \n",
       "248 -1.659106e-08  <bound method DataFrame.reindex of            ...  \n",
       "249 -1.485713e-08  <bound method DataFrame.reindex of            ...  \n",
       "250 -1.326903e-08  <bound method DataFrame.reindex of            ...  \n",
       "\n",
       "[5250 rows x 7 columns]"
      ]
     },
     "execution_count": 77,
     "metadata": {},
     "output_type": "execute_result"
    }
   ],
   "source": [
    "x_renamed"
   ]
  },
  {
   "cell_type": "code",
   "execution_count": 78,
   "metadata": {},
   "outputs": [
    {
     "data": {
      "text/plain": [
       "(5250, 7)"
      ]
     },
     "execution_count": 78,
     "metadata": {},
     "output_type": "execute_result"
    }
   ],
   "source": [
    "x_renamed.shape"
   ]
  },
  {
   "cell_type": "code",
   "execution_count": 79,
   "metadata": {},
   "outputs": [],
   "source": [
    "data_filtered = x_renamed.drop_duplicates()"
   ]
  },
  {
   "cell_type": "code",
   "execution_count": 80,
   "metadata": {},
   "outputs": [
    {
     "data": {
      "text/plain": [
       "(5000, 7)"
      ]
     },
     "execution_count": 80,
     "metadata": {},
     "output_type": "execute_result"
    }
   ],
   "source": [
    "data_filtered.shape"
   ]
  },
  {
   "cell_type": "code",
   "execution_count": 86,
   "metadata": {},
   "outputs": [],
   "source": [
    "dff = pd.DataFrame(np.random.randn(100,2))\n",
    "msk = np.random.rand(len(dff)) < 0.8\n",
    "train = dff[msk]\n",
    "test = dff[~msk]"
   ]
  },
  {
   "cell_type": "code",
   "execution_count": 87,
   "metadata": {},
   "outputs": [],
   "source": [
    "training_data = data_filtered.sample(frac=0.8, random_state=25)\n",
    "testing_data = data_filtered.drop(training_data.index)"
   ]
  },
  {
   "cell_type": "code",
   "execution_count": 93,
   "metadata": {},
   "outputs": [],
   "source": [
    "x_test = training_data[['p', 'x1', 'x2', 'v', 'dtheta1', 'dtheta2']]\n",
    "y_test = training_data[['F']]"
   ]
  },
  {
   "cell_type": "code",
   "execution_count": 95,
   "metadata": {},
   "outputs": [],
   "source": [
    "def init_weights(architecture):\n",
    "    W = []\n",
    "    b = []\n",
    "    np.random.seed(1)\n",
    "    hidden_layers = len(architecture)-1\n",
    "    for i in range(hidden_layers):\n",
    "        W.append(np.random.randn(architecture[i+1]).reshape(-1,1))\n",
    "        b.append(np.zeros(architecture[i+1]).reshape(-1,1))\n",
    "    return W,b"
   ]
  },
  {
   "cell_type": "code",
   "execution_count": 96,
   "metadata": {},
   "outputs": [
    {
     "data": {
      "text/plain": [
       "(5, 1)"
      ]
     },
     "execution_count": 96,
     "metadata": {},
     "output_type": "execute_result"
    }
   ],
   "source": [
    "architecture = [1, 5, 5, 1]\n",
    "W, b = init_weights(architecture)\n",
    "W[0].shape\n"
   ]
  },
  {
   "cell_type": "code",
   "execution_count": 109,
   "metadata": {},
   "outputs": [
    {
     "data": {
      "text/plain": [
       "(4000, 6)"
      ]
     },
     "execution_count": 109,
     "metadata": {},
     "output_type": "execute_result"
    }
   ],
   "source": [
    "x_test.shape"
   ]
  },
  {
   "cell_type": "code",
   "execution_count": 107,
   "metadata": {},
   "outputs": [
    {
     "name": "stdout",
     "output_type": "stream",
     "text": [
      "WARNING:tensorflow:Please add `keras.layers.InputLayer` instead of `keras.Input` to Sequential model. `keras.Input` is intended to be used by Functional model.\n"
     ]
    }
   ],
   "source": [
    "tf.random.set_seed(99) # Seeding to get reproducable results\n",
    "\n",
    "# Variant 2: For the sake of completeness \n",
    "# this is an alternative way to write the sequential model.\n",
    "model = keras.Sequential(\n",
    "    [\n",
    "        keras.Input(shape=(6,), name='input'),\n",
    "        keras.layers.Dense(5, activation='tanh', name='hidden_1'),\n",
    "        keras.layers.Dense(5, activation='tanh', name='hidden_2'),\n",
    "        keras.layers.Dense(1, activation='linear', name='output'),\n",
    "    ],\n",
    "    name='simple_model'\n",
    ")"
   ]
  },
  {
   "cell_type": "markdown",
   "metadata": {},
   "source": []
  },
  {
   "cell_type": "code",
   "execution_count": 116,
   "metadata": {},
   "outputs": [
    {
     "name": "stdout",
     "output_type": "stream",
     "text": [
      "Model: \"simple_model\"\n",
      "_________________________________________________________________\n",
      "Layer (type)                 Output Shape              Param #   \n",
      "=================================================================\n",
      "hidden_1 (Dense)             (None, 5)                 35        \n",
      "_________________________________________________________________\n",
      "hidden_2 (Dense)             (None, 5)                 30        \n",
      "_________________________________________________________________\n",
      "output (Dense)               (None, 1)                 6         \n",
      "=================================================================\n",
      "Total params: 71\n",
      "Trainable params: 71\n",
      "Non-trainable params: 0\n",
      "_________________________________________________________________\n"
     ]
    }
   ],
   "source": [
    "model.summary()"
   ]
  },
  {
   "cell_type": "code",
   "execution_count": 117,
   "metadata": {},
   "outputs": [],
   "source": [
    "y_hat = model.predict(x_test)"
   ]
  },
  {
   "cell_type": "code",
   "execution_count": 123,
   "metadata": {},
   "outputs": [
    {
     "ename": "AttributeError",
     "evalue": "'DataFrame' object has no attribute 'flatten'",
     "output_type": "error",
     "traceback": [
      "\u001b[1;31m---------------------------------------------------------------------------\u001b[0m",
      "\u001b[1;31mAttributeError\u001b[0m                            Traceback (most recent call last)",
      "\u001b[1;32m<ipython-input-123-036a359be530>\u001b[0m in \u001b[0;36m<module>\u001b[1;34m\u001b[0m\n\u001b[1;32m----> 1\u001b[1;33m \u001b[0mfig\u001b[0m\u001b[1;33m,\u001b[0m \u001b[0max\u001b[0m \u001b[1;33m=\u001b[0m \u001b[0mfigure_1d_data\u001b[0m\u001b[1;33m(\u001b[0m\u001b[0mx_test\u001b[0m\u001b[1;33m.\u001b[0m\u001b[0mT\u001b[0m\u001b[1;33m,\u001b[0m \u001b[0my_hat\u001b[0m\u001b[1;33m)\u001b[0m\u001b[1;33m\u001b[0m\u001b[1;33m\u001b[0m\u001b[0m\n\u001b[0m\u001b[0;32m      2\u001b[0m \u001b[0max\u001b[0m\u001b[1;33m.\u001b[0m\u001b[0mset_title\u001b[0m\u001b[1;33m(\u001b[0m\u001b[1;34m'Neural network prediction (Keras untrained)'\u001b[0m\u001b[1;33m)\u001b[0m\u001b[1;33m\u001b[0m\u001b[1;33m\u001b[0m\u001b[0m\n",
      "\u001b[1;32m<ipython-input-122-4f63f1f0f2bf>\u001b[0m in \u001b[0;36mfigure_1d_data\u001b[1;34m(x_test, y_hat)\u001b[0m\n\u001b[0;32m      6\u001b[0m \u001b[1;33m\u001b[0m\u001b[0m\n\u001b[0;32m      7\u001b[0m     \u001b[1;32mif\u001b[0m \u001b[0mx_test\u001b[0m \u001b[1;32mis\u001b[0m \u001b[1;32mnot\u001b[0m \u001b[1;32mNone\u001b[0m\u001b[1;33m:\u001b[0m\u001b[1;33m\u001b[0m\u001b[1;33m\u001b[0m\u001b[0m\n\u001b[1;32m----> 8\u001b[1;33m         \u001b[0max\u001b[0m\u001b[1;33m.\u001b[0m\u001b[0mplot\u001b[0m\u001b[1;33m(\u001b[0m\u001b[0mx_test\u001b[0m\u001b[1;33m.\u001b[0m\u001b[0mflatten\u001b[0m\u001b[1;33m(\u001b[0m\u001b[1;33m)\u001b[0m\u001b[1;33m,\u001b[0m\u001b[0my_hat\u001b[0m\u001b[1;33m.\u001b[0m\u001b[0mflatten\u001b[0m\u001b[1;33m(\u001b[0m\u001b[1;33m)\u001b[0m\u001b[1;33m,\u001b[0m \u001b[0mlabel\u001b[0m\u001b[1;33m=\u001b[0m\u001b[1;34m'predicted'\u001b[0m\u001b[1;33m)\u001b[0m\u001b[1;33m\u001b[0m\u001b[1;33m\u001b[0m\u001b[0m\n\u001b[0m\u001b[0;32m      9\u001b[0m \u001b[1;33m\u001b[0m\u001b[0m\n\u001b[0;32m     10\u001b[0m     \u001b[0max\u001b[0m\u001b[1;33m.\u001b[0m\u001b[0mset_xlabel\u001b[0m\u001b[1;33m(\u001b[0m\u001b[1;34m'x'\u001b[0m\u001b[1;33m)\u001b[0m\u001b[1;33m\u001b[0m\u001b[1;33m\u001b[0m\u001b[0m\n",
      "\u001b[1;32mD:\\Study Materials\\Machine Learning Methods for Engineers\\Anaconda\\lib\\site-packages\\pandas\\core\\generic.py\u001b[0m in \u001b[0;36m__getattr__\u001b[1;34m(self, name)\u001b[0m\n\u001b[0;32m   5137\u001b[0m             \u001b[1;32mif\u001b[0m \u001b[0mself\u001b[0m\u001b[1;33m.\u001b[0m\u001b[0m_info_axis\u001b[0m\u001b[1;33m.\u001b[0m\u001b[0m_can_hold_identifiers_and_holds_name\u001b[0m\u001b[1;33m(\u001b[0m\u001b[0mname\u001b[0m\u001b[1;33m)\u001b[0m\u001b[1;33m:\u001b[0m\u001b[1;33m\u001b[0m\u001b[1;33m\u001b[0m\u001b[0m\n\u001b[0;32m   5138\u001b[0m                 \u001b[1;32mreturn\u001b[0m \u001b[0mself\u001b[0m\u001b[1;33m[\u001b[0m\u001b[0mname\u001b[0m\u001b[1;33m]\u001b[0m\u001b[1;33m\u001b[0m\u001b[1;33m\u001b[0m\u001b[0m\n\u001b[1;32m-> 5139\u001b[1;33m             \u001b[1;32mreturn\u001b[0m \u001b[0mobject\u001b[0m\u001b[1;33m.\u001b[0m\u001b[0m__getattribute__\u001b[0m\u001b[1;33m(\u001b[0m\u001b[0mself\u001b[0m\u001b[1;33m,\u001b[0m \u001b[0mname\u001b[0m\u001b[1;33m)\u001b[0m\u001b[1;33m\u001b[0m\u001b[1;33m\u001b[0m\u001b[0m\n\u001b[0m\u001b[0;32m   5140\u001b[0m \u001b[1;33m\u001b[0m\u001b[0m\n\u001b[0;32m   5141\u001b[0m     \u001b[1;32mdef\u001b[0m \u001b[0m__setattr__\u001b[0m\u001b[1;33m(\u001b[0m\u001b[0mself\u001b[0m\u001b[1;33m,\u001b[0m \u001b[0mname\u001b[0m\u001b[1;33m:\u001b[0m \u001b[0mstr\u001b[0m\u001b[1;33m,\u001b[0m \u001b[0mvalue\u001b[0m\u001b[1;33m)\u001b[0m \u001b[1;33m->\u001b[0m \u001b[1;32mNone\u001b[0m\u001b[1;33m:\u001b[0m\u001b[1;33m\u001b[0m\u001b[1;33m\u001b[0m\u001b[0m\n",
      "\u001b[1;31mAttributeError\u001b[0m: 'DataFrame' object has no attribute 'flatten'"
     ]
    },
    {
     "data": {
      "image/png": "[encoded data removed]",
      "text/plain": [
       "<Figure size 432x288 with 1 Axes>"
      ]
     },
     "metadata": {
      "needs_background": "light"
     },
     "output_type": "display_data"
    }
   ],
   "source": [
    "fig, ax = figure_1d_data(x_test.T, y_hat)\n",
    "ax.set_title('Neural network prediction (Keras untrained)')"
   ]
  },
  {
   "cell_type": "code",
   "execution_count": null,
   "metadata": {},
   "outputs": [],
   "source": []
  },
  {
   "cell_type": "code",
   "execution_count": null,
   "metadata": {},
   "outputs": [],
   "source": []
  }
 ],
 "metadata": {
  "kernelspec": {
   "display_name": "Python 3",
   "language": "python",
   "name": "python3"
  },
  "language_info": {
   "codemirror_mode": {
    "name": "ipython",
    "version": 3
   },
   "file_extension": ".py",
   "mimetype": "text/x-python",
   "name": "python",
   "nbconvert_exporter": "python",
   "pygments_lexer": "ipython3",
   "version": "3.8.5"
  }
 },
 "nbformat": 4,
 "nbformat_minor": 4
}
